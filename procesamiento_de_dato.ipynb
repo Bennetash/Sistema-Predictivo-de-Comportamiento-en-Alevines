{
 "cells": [
  {
   "cell_type": "code",
   "execution_count": 1,
   "metadata": {},
   "outputs": [
    {
     "data": {
      "text/html": [
       "<div>\n",
       "<style scoped>\n",
       "    .dataframe tbody tr th:only-of-type {\n",
       "        vertical-align: middle;\n",
       "    }\n",
       "\n",
       "    .dataframe tbody tr th {\n",
       "        vertical-align: top;\n",
       "    }\n",
       "\n",
       "    .dataframe thead th {\n",
       "        text-align: right;\n",
       "    }\n",
       "</style>\n",
       "<table border=\"1\" class=\"dataframe\">\n",
       "  <thead>\n",
       "    <tr style=\"text-align: right;\">\n",
       "      <th></th>\n",
       "      <th>timestamp</th>\n",
       "      <th>class</th>\n",
       "      <th>confidence</th>\n",
       "      <th>X1</th>\n",
       "      <th>Y1</th>\n",
       "      <th>X2</th>\n",
       "      <th>Y2</th>\n",
       "    </tr>\n",
       "  </thead>\n",
       "  <tbody>\n",
       "    <tr>\n",
       "      <th>0</th>\n",
       "      <td>2024-03-13 11:44:46</td>\n",
       "      <td>Alevin</td>\n",
       "      <td>tensor(1.)</td>\n",
       "      <td>tensor(523.0328)</td>\n",
       "      <td>tensor(353.5459)</td>\n",
       "      <td>tensor(607.1686)</td>\n",
       "      <td>tensor(445.1391)</td>\n",
       "    </tr>\n",
       "    <tr>\n",
       "      <th>1</th>\n",
       "      <td>2024-03-13 11:44:46</td>\n",
       "      <td>Alevin</td>\n",
       "      <td>tensor(1.)</td>\n",
       "      <td>tensor(535.2184)</td>\n",
       "      <td>tensor(362.7237)</td>\n",
       "      <td>tensor(621.2850)</td>\n",
       "      <td>tensor(457.5335)</td>\n",
       "    </tr>\n",
       "    <tr>\n",
       "      <th>2</th>\n",
       "      <td>2024-03-13 11:44:47</td>\n",
       "      <td>Alevin</td>\n",
       "      <td>tensor(1.)</td>\n",
       "      <td>tensor(537.7475)</td>\n",
       "      <td>tensor(363.7668)</td>\n",
       "      <td>tensor(622.9311)</td>\n",
       "      <td>tensor(459.1210)</td>\n",
       "    </tr>\n",
       "    <tr>\n",
       "      <th>3</th>\n",
       "      <td>2024-03-13 11:44:47</td>\n",
       "      <td>Alevin</td>\n",
       "      <td>tensor(1.)</td>\n",
       "      <td>tensor(538.2437)</td>\n",
       "      <td>tensor(364.2957)</td>\n",
       "      <td>tensor(623.9667)</td>\n",
       "      <td>tensor(459.8684)</td>\n",
       "    </tr>\n",
       "    <tr>\n",
       "      <th>4</th>\n",
       "      <td>2024-03-13 11:44:47</td>\n",
       "      <td>Alevin</td>\n",
       "      <td>tensor(2.)</td>\n",
       "      <td>tensor(604.6559)</td>\n",
       "      <td>tensor(236.3149)</td>\n",
       "      <td>tensor(632.1202)</td>\n",
       "      <td>tensor(349.0140)</td>\n",
       "    </tr>\n",
       "  </tbody>\n",
       "</table>\n",
       "</div>"
      ],
      "text/plain": [
       "             timestamp   class  confidence                X1  \\\n",
       "0  2024-03-13 11:44:46  Alevin  tensor(1.)  tensor(523.0328)   \n",
       "1  2024-03-13 11:44:46  Alevin  tensor(1.)  tensor(535.2184)   \n",
       "2  2024-03-13 11:44:47  Alevin  tensor(1.)  tensor(537.7475)   \n",
       "3  2024-03-13 11:44:47  Alevin  tensor(1.)  tensor(538.2437)   \n",
       "4  2024-03-13 11:44:47  Alevin  tensor(2.)  tensor(604.6559)   \n",
       "\n",
       "                 Y1                X2                Y2  \n",
       "0  tensor(353.5459)  tensor(607.1686)  tensor(445.1391)  \n",
       "1  tensor(362.7237)  tensor(621.2850)  tensor(457.5335)  \n",
       "2  tensor(363.7668)  tensor(622.9311)  tensor(459.1210)  \n",
       "3  tensor(364.2957)  tensor(623.9667)  tensor(459.8684)  \n",
       "4  tensor(236.3149)  tensor(632.1202)  tensor(349.0140)  "
      ]
     },
     "execution_count": 1,
     "metadata": {},
     "output_type": "execute_result"
    }
   ],
   "source": [
    "import pandas as pd\n",
    "import matplotlib.pyplot as plt\n",
    "import seaborn as sns\n",
    "import torch\n",
    "from scipy.spatial.distance import pdist, squareform\n",
    "from sklearn.model_selection import train_test_split\n",
    "from sklearn.neighbors import KNeighborsClassifier\n",
    "from sklearn.metrics import classification_report, accuracy_score\n",
    "from sklearn.metrics import confusion_matrix\n",
    "\n",
    "df = 'detecciones_alevines.csv'\n",
    "data = pd.read_csv(df, sep=',')\n",
    "\n",
    "data.head()"
   ]
  },
  {
   "cell_type": "code",
   "execution_count": 2,
   "metadata": {},
   "outputs": [
    {
     "data": {
      "text/html": [
       "<div>\n",
       "<style scoped>\n",
       "    .dataframe tbody tr th:only-of-type {\n",
       "        vertical-align: middle;\n",
       "    }\n",
       "\n",
       "    .dataframe tbody tr th {\n",
       "        vertical-align: top;\n",
       "    }\n",
       "\n",
       "    .dataframe thead th {\n",
       "        text-align: right;\n",
       "    }\n",
       "</style>\n",
       "<table border=\"1\" class=\"dataframe\">\n",
       "  <thead>\n",
       "    <tr style=\"text-align: right;\">\n",
       "      <th></th>\n",
       "      <th>timestamp</th>\n",
       "      <th>class</th>\n",
       "      <th>confidence</th>\n",
       "      <th>X1</th>\n",
       "      <th>Y1</th>\n",
       "      <th>X2</th>\n",
       "      <th>Y2</th>\n",
       "    </tr>\n",
       "  </thead>\n",
       "  <tbody>\n",
       "    <tr>\n",
       "      <th>count</th>\n",
       "      <td>1470</td>\n",
       "      <td>1470</td>\n",
       "      <td>1470</td>\n",
       "      <td>1470</td>\n",
       "      <td>1470</td>\n",
       "      <td>1470</td>\n",
       "      <td>1470</td>\n",
       "    </tr>\n",
       "    <tr>\n",
       "      <th>unique</th>\n",
       "      <td>72</td>\n",
       "      <td>1</td>\n",
       "      <td>13</td>\n",
       "      <td>1467</td>\n",
       "      <td>1467</td>\n",
       "      <td>1469</td>\n",
       "      <td>1466</td>\n",
       "    </tr>\n",
       "    <tr>\n",
       "      <th>top</th>\n",
       "      <td>2024-03-13 11:45:05</td>\n",
       "      <td>Alevin</td>\n",
       "      <td>tensor(11.)</td>\n",
       "      <td>tensor(503.5703)</td>\n",
       "      <td>tensor(358.9282)</td>\n",
       "      <td>tensor(602.0403)</td>\n",
       "      <td>tensor(480.)</td>\n",
       "    </tr>\n",
       "    <tr>\n",
       "      <th>freq</th>\n",
       "      <td>31</td>\n",
       "      <td>1470</td>\n",
       "      <td>451</td>\n",
       "      <td>2</td>\n",
       "      <td>2</td>\n",
       "      <td>2</td>\n",
       "      <td>3</td>\n",
       "    </tr>\n",
       "  </tbody>\n",
       "</table>\n",
       "</div>"
      ],
      "text/plain": [
       "                  timestamp   class   confidence                X1  \\\n",
       "count                  1470    1470         1470              1470   \n",
       "unique                   72       1           13              1467   \n",
       "top     2024-03-13 11:45:05  Alevin  tensor(11.)  tensor(503.5703)   \n",
       "freq                     31    1470          451                 2   \n",
       "\n",
       "                      Y1                X2            Y2  \n",
       "count               1470              1470          1470  \n",
       "unique              1467              1469          1466  \n",
       "top     tensor(358.9282)  tensor(602.0403)  tensor(480.)  \n",
       "freq                   2                 2             3  "
      ]
     },
     "execution_count": 2,
     "metadata": {},
     "output_type": "execute_result"
    }
   ],
   "source": [
    "data.describe()"
   ]
  },
  {
   "cell_type": "code",
   "execution_count": 3,
   "metadata": {},
   "outputs": [],
   "source": [
    "#Limpieza de datos\n",
    "tensor_columns = ['confidence', 'X1', 'Y1', 'X2', 'Y2']\n",
    "for column in tensor_columns:\n",
    "    data[column] = data[column].str.extract(r'tensor\\((.*?)\\)').astype(float)\n",
    "data['timestamp'] = pd.to_datetime(data['timestamp'])"
   ]
  },
  {
   "cell_type": "code",
   "execution_count": 4,
   "metadata": {},
   "outputs": [],
   "source": [
    "#Calculo de centroides\n",
    "data['X_center'] = (data['X1'] + data['X2']) / 2\n",
    "data['Y_center'] = (data['Y1'] + data['Y2']) / 2"
   ]
  },
  {
   "cell_type": "code",
   "execution_count": 5,
   "metadata": {},
   "outputs": [],
   "source": [
    "#Funcion para Calcular la distancia promedio entre alevines\n",
    "def calculo_distancia_promedio(group):\n",
    "    if len(group) > 1:\n",
    "        coordinates = group[['X_center', 'Y_center']].values\n",
    "        distances = pdist(coordinates, metric='euclidean')\n",
    "        average_distance = distances.mean()\n",
    "    else:\n",
    "        average_distance = 0\n",
    "    return average_distance\n",
    "\n",
    "#Aplicacion de la funcion para cada timestamp\n",
    "calculo_distancia_promedio = data.groupby('timestamp').apply(calculo_distancia_promedio)"
   ]
  },
  {
   "cell_type": "code",
   "execution_count": 6,
   "metadata": {},
   "outputs": [
    {
     "data": {
      "text/plain": [
       "timestamp\n",
       "2024-03-13 11:44:46    17.008491\n",
       "2024-03-13 11:44:47    67.128517\n",
       "2024-03-13 11:44:48    56.008926\n",
       "2024-03-13 11:44:49    25.604704\n",
       "2024-03-13 11:44:50    64.090043\n",
       "dtype: float64"
      ]
     },
     "execution_count": 6,
     "metadata": {},
     "output_type": "execute_result"
    }
   ],
   "source": [
    "calculo_distancia_promedio.head()"
   ]
  },
  {
   "cell_type": "code",
   "execution_count": 7,
   "metadata": {},
   "outputs": [],
   "source": [
    "#Clasificacion de distancias\n",
    "lower_threshold = calculo_distancia_promedio.quantile(0.33)\n",
    "upper_threshold = calculo_distancia_promedio.quantile(0.66)"
   ]
  },
  {
   "cell_type": "code",
   "execution_count": 8,
   "metadata": {},
   "outputs": [
    {
     "data": {
      "text/plain": [
       "timestamp\n",
       "2024-03-13 11:44:46       Agrupados\n",
       "2024-03-13 11:44:47       Agrupados\n",
       "2024-03-13 11:44:48       Agrupados\n",
       "2024-03-13 11:44:49       Agrupados\n",
       "2024-03-13 11:44:50       Agrupados\n",
       "                           ...     \n",
       "2024-03-13 11:45:53       Erraticos\n",
       "2024-03-13 11:45:54       Erraticos\n",
       "2024-03-13 11:45:55       Erraticos\n",
       "2024-03-13 11:45:56    Distanciados\n",
       "2024-03-13 11:45:57       Erraticos\n",
       "Length: 72, dtype: object"
      ]
     },
     "execution_count": 8,
     "metadata": {},
     "output_type": "execute_result"
    }
   ],
   "source": [
    "def clasificacion_distancia(distance):\n",
    "    if distance <= lower_threshold:\n",
    "        return 'Agrupados'\n",
    "    elif distance <= upper_threshold:\n",
    "        return 'Distanciados'\n",
    "    else:\n",
    "        return 'Erraticos'\n",
    "    \n",
    "Categorias_de_distancia = calculo_distancia_promedio.apply(clasificacion_distancia)\n",
    "Categorias_de_distancia.head(100)"
   ]
  },
  {
   "cell_type": "code",
   "execution_count": 9,
   "metadata": {},
   "outputs": [
    {
     "name": "stdout",
     "output_type": "stream",
     "text": [
      "            timestamp  distancia_promedio clasificacion\n",
      "0 2024-03-13 11:44:46           17.008491     Agrupados\n",
      "1 2024-03-13 11:44:47           67.128517     Agrupados\n",
      "2 2024-03-13 11:44:48           56.008926     Agrupados\n",
      "3 2024-03-13 11:44:49           25.604704     Agrupados\n",
      "4 2024-03-13 11:44:50           64.090043     Agrupados\n"
     ]
    }
   ],
   "source": [
    "df_final = pd.DataFrame({\n",
    "    'timestamp': calculo_distancia_promedio.index,\n",
    "    'distancia_promedio': calculo_distancia_promedio.values,\n",
    "    'clasificacion': Categorias_de_distancia.values\n",
    "})\n",
    "print(df_final.head())"
   ]
  },
  {
   "cell_type": "code",
   "execution_count": 10,
   "metadata": {},
   "outputs": [],
   "source": [
    "#preparar y dividir los datos en conjunto de entrenamiento y prueba\n",
    "x = df_final[['distancia_promedio']]\n",
    "y = df_final['clasificacion']   \n",
    "\n",
    "x_train, x_test, y_train, y_test = train_test_split(x, y, test_size=0.3, random_state=42)"
   ]
  },
  {
   "cell_type": "code",
   "execution_count": 11,
   "metadata": {},
   "outputs": [
    {
     "data": {
      "text/html": [
       "<style>#sk-container-id-1 {color: black;}#sk-container-id-1 pre{padding: 0;}#sk-container-id-1 div.sk-toggleable {background-color: white;}#sk-container-id-1 label.sk-toggleable__label {cursor: pointer;display: block;width: 100%;margin-bottom: 0;padding: 0.3em;box-sizing: border-box;text-align: center;}#sk-container-id-1 label.sk-toggleable__label-arrow:before {content: \"▸\";float: left;margin-right: 0.25em;color: #696969;}#sk-container-id-1 label.sk-toggleable__label-arrow:hover:before {color: black;}#sk-container-id-1 div.sk-estimator:hover label.sk-toggleable__label-arrow:before {color: black;}#sk-container-id-1 div.sk-toggleable__content {max-height: 0;max-width: 0;overflow: hidden;text-align: left;background-color: #f0f8ff;}#sk-container-id-1 div.sk-toggleable__content pre {margin: 0.2em;color: black;border-radius: 0.25em;background-color: #f0f8ff;}#sk-container-id-1 input.sk-toggleable__control:checked~div.sk-toggleable__content {max-height: 200px;max-width: 100%;overflow: auto;}#sk-container-id-1 input.sk-toggleable__control:checked~label.sk-toggleable__label-arrow:before {content: \"▾\";}#sk-container-id-1 div.sk-estimator input.sk-toggleable__control:checked~label.sk-toggleable__label {background-color: #d4ebff;}#sk-container-id-1 div.sk-label input.sk-toggleable__control:checked~label.sk-toggleable__label {background-color: #d4ebff;}#sk-container-id-1 input.sk-hidden--visually {border: 0;clip: rect(1px 1px 1px 1px);clip: rect(1px, 1px, 1px, 1px);height: 1px;margin: -1px;overflow: hidden;padding: 0;position: absolute;width: 1px;}#sk-container-id-1 div.sk-estimator {font-family: monospace;background-color: #f0f8ff;border: 1px dotted black;border-radius: 0.25em;box-sizing: border-box;margin-bottom: 0.5em;}#sk-container-id-1 div.sk-estimator:hover {background-color: #d4ebff;}#sk-container-id-1 div.sk-parallel-item::after {content: \"\";width: 100%;border-bottom: 1px solid gray;flex-grow: 1;}#sk-container-id-1 div.sk-label:hover label.sk-toggleable__label {background-color: #d4ebff;}#sk-container-id-1 div.sk-serial::before {content: \"\";position: absolute;border-left: 1px solid gray;box-sizing: border-box;top: 0;bottom: 0;left: 50%;z-index: 0;}#sk-container-id-1 div.sk-serial {display: flex;flex-direction: column;align-items: center;background-color: white;padding-right: 0.2em;padding-left: 0.2em;position: relative;}#sk-container-id-1 div.sk-item {position: relative;z-index: 1;}#sk-container-id-1 div.sk-parallel {display: flex;align-items: stretch;justify-content: center;background-color: white;position: relative;}#sk-container-id-1 div.sk-item::before, #sk-container-id-1 div.sk-parallel-item::before {content: \"\";position: absolute;border-left: 1px solid gray;box-sizing: border-box;top: 0;bottom: 0;left: 50%;z-index: -1;}#sk-container-id-1 div.sk-parallel-item {display: flex;flex-direction: column;z-index: 1;position: relative;background-color: white;}#sk-container-id-1 div.sk-parallel-item:first-child::after {align-self: flex-end;width: 50%;}#sk-container-id-1 div.sk-parallel-item:last-child::after {align-self: flex-start;width: 50%;}#sk-container-id-1 div.sk-parallel-item:only-child::after {width: 0;}#sk-container-id-1 div.sk-dashed-wrapped {border: 1px dashed gray;margin: 0 0.4em 0.5em 0.4em;box-sizing: border-box;padding-bottom: 0.4em;background-color: white;}#sk-container-id-1 div.sk-label label {font-family: monospace;font-weight: bold;display: inline-block;line-height: 1.2em;}#sk-container-id-1 div.sk-label-container {text-align: center;}#sk-container-id-1 div.sk-container {/* jupyter's `normalize.less` sets `[hidden] { display: none; }` but bootstrap.min.css set `[hidden] { display: none !important; }` so we also need the `!important` here to be able to override the default hidden behavior on the sphinx rendered scikit-learn.org. See: https://github.com/scikit-learn/scikit-learn/issues/21755 */display: inline-block !important;position: relative;}#sk-container-id-1 div.sk-text-repr-fallback {display: none;}</style><div id=\"sk-container-id-1\" class=\"sk-top-container\"><div class=\"sk-text-repr-fallback\"><pre>KNeighborsClassifier(n_neighbors=3)</pre><b>In a Jupyter environment, please rerun this cell to show the HTML representation or trust the notebook. <br />On GitHub, the HTML representation is unable to render, please try loading this page with nbviewer.org.</b></div><div class=\"sk-container\" hidden><div class=\"sk-item\"><div class=\"sk-estimator sk-toggleable\"><input class=\"sk-toggleable__control sk-hidden--visually\" id=\"sk-estimator-id-1\" type=\"checkbox\" checked><label for=\"sk-estimator-id-1\" class=\"sk-toggleable__label sk-toggleable__label-arrow\">KNeighborsClassifier</label><div class=\"sk-toggleable__content\"><pre>KNeighborsClassifier(n_neighbors=3)</pre></div></div></div></div></div>"
      ],
      "text/plain": [
       "KNeighborsClassifier(n_neighbors=3)"
      ]
     },
     "execution_count": 11,
     "metadata": {},
     "output_type": "execute_result"
    }
   ],
   "source": [
    "#Entrenar el modelo KNN\n",
    "knn = KNeighborsClassifier(n_neighbors=3)\n",
    "knn.fit(x_train, y_train)"
   ]
  },
  {
   "cell_type": "code",
   "execution_count": 12,
   "metadata": {},
   "outputs": [],
   "source": [
    "#Predecir las etiquetas para el conjunto de prueba\n",
    "y_pred = knn.predict(x_test)"
   ]
  },
  {
   "cell_type": "code",
   "execution_count": 13,
   "metadata": {},
   "outputs": [
    {
     "data": {
      "text/plain": [
       "(1.0,\n",
       " '              precision    recall  f1-score   support\\n\\n   Agrupados       1.00      1.00      1.00        10\\nDistanciados       1.00      1.00      1.00         7\\n   Erraticos       1.00      1.00      1.00         5\\n\\n    accuracy                           1.00        22\\n   macro avg       1.00      1.00      1.00        22\\nweighted avg       1.00      1.00      1.00        22\\n')"
      ]
     },
     "execution_count": 13,
     "metadata": {},
     "output_type": "execute_result"
    }
   ],
   "source": [
    "#Evaluar el modelo\n",
    "accuracy = accuracy_score(y_test, y_pred)\n",
    "report = classification_report(y_test, y_pred)\n",
    "\n",
    "accuracy, report"
   ]
  },
  {
   "cell_type": "code",
   "execution_count": 14,
   "metadata": {},
   "outputs": [],
   "source": [
    "#Matriz de confusion\n",
    "cm = confusion_matrix(y_test, y_pred)\n",
    "classes = ['Agrupados', 'Distanciados', 'Erraticos']"
   ]
  },
  {
   "cell_type": "code",
   "execution_count": 15,
   "metadata": {},
   "outputs": [
    {
     "data": {
      "image/png": "[encoded data removed]",
      "text/plain": [
       "<Figure size 1000x700 with 2 Axes>"
      ]
     },
     "metadata": {},
     "output_type": "display_data"
    }
   ],
   "source": [
    "#graficar la matriz de confusion\n",
    "plt.figure(figsize=(10, 7))\n",
    "sns.heatmap(cm, annot=True, fmt='d',cmap='Blues', xticklabels=classes, yticklabels=classes)\n",
    "plt.title('Matriz de Confusión')\n",
    "plt.xlabel('Etiqueta Predicha')\n",
    "plt.ylabel('Etiqueta Verdadera')\n",
    "plt.show()"
   ]
  },
  {
   "cell_type": "code",
   "execution_count": 17,
   "metadata": {},
   "outputs": [
    {
     "data": {
      "image/png": "[encoded data removed]",
      "text/plain": [
       "<Figure size 1000x700 with 1 Axes>"
      ]
     },
     "metadata": {},
     "output_type": "display_data"
    }
   ],
   "source": [
    "#Graficar el histograma de las clases predichas\n",
    "plt.figure(figsize=(10, 7))\n",
    "sns.countplot(x= y_pred, palette='Blues')\n",
    "plt.title('Histograma Clases Predichas')\n",
    "plt.xlabel('Clase')\n",
    "plt.ylabel('Frecuencia')\n",
    "plt.xticks(range(len(classes)), classes)\n",
    "plt.show()"
   ]
  },
  {
   "cell_type": "code",
   "execution_count": 18,
   "metadata": {},
   "outputs": [
    {
     "data": {
      "text/plain": [
       "['knn_model.pkl']"
      ]
     },
     "execution_count": 18,
     "metadata": {},
     "output_type": "execute_result"
    }
   ],
   "source": [
    "#guardar modelo knn\n",
    "import joblib\n",
    "\n",
    "joblib.dump(knn, 'knn_model.pkl')"
   ]
  }
 ],
 "metadata": {
  "kernelspec": {
   "display_name": "base",
   "language": "python",
   "name": "python3"
  },
  "language_info": {
   "codemirror_mode": {
    "name": "ipython",
    "version": 3
   },
   "file_extension": ".py",
   "mimetype": "text/x-python",
   "name": "python",
   "nbconvert_exporter": "python",
   "pygments_lexer": "ipython3",
   "version": "3.11.5"
  }
 },
 "nbformat": 4,
 "nbformat_minor": 2
}
